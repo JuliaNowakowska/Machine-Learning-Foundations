{
 "cells": [
  {
   "cell_type": "markdown",
   "id": "8736849e",
   "metadata": {},
   "source": [
    "# Linear models for regression\n",
    "\n",
    "## Goal of regression\n",
    "Predict the value of one or more continous variables based on input variables. \n",
    "\n",
    "## What are linear regression models?\n",
    "Simplest form of linear regression model is of course a linear function. But, much better results can be obtained by using linear combinations of a fixed set of nonlinear functions, known as basis functions. Even though some of the basis functions are nonlinear w.r.t. the input variables, they are linear function of the parameters.\n",
    "\n",
    "\n",
    "\n",
    "## How does regression make predictions?\n",
    "Given a training data set which includes observation and target values, the goal is to predict target value for a new observation.\n",
    "\n",
    "Model distribution p(target|input), which represents the uncertainty in predictions and allows minimizing expected loss.\n",
    "\n",
    "\n",
    "## What are the limitations?\n",
    "They can struggle with high-dimensional input spaces."
   ]
  }
 ],
 "metadata": {
  "kernelspec": {
   "display_name": "Python 3 (ipykernel)",
   "language": "python",
   "name": "python3"
  },
  "language_info": {
   "codemirror_mode": {
    "name": "ipython",
    "version": 3
   },
   "file_extension": ".py",
   "mimetype": "text/x-python",
   "name": "python",
   "nbconvert_exporter": "python",
   "pygments_lexer": "ipython3",
   "version": "3.9.15"
  }
 },
 "nbformat": 4,
 "nbformat_minor": 5
}
