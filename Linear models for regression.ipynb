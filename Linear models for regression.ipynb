{
 "cells": [
  {
   "cell_type": "markdown",
   "id": "8736849e",
   "metadata": {},
   "source": [
    "# Linear models for regression\n",
    "\n",
    "## Goal of regression\n",
    "Predict the value of one or more continous variables based on input variables. \n",
    "\n",
    "## What are linear regression models?\n",
    "Simplest form of linear regression model is of course a linear function. But, much better results can be obtained by using **linear combinations of a fixed set of functions, known as basis functions**. Even though some of the basis functions are nonlinear w.r.t. the input variables, **they are linear function of the parameters**.\n",
    "\n",
    "\n",
    "\n",
    "## How does regression make predictions?\n",
    "Given a training data set which includes observation and target values, the goal is to predict target value for a new observation.\n",
    "\n",
    "Model distribution p(target|input) represents the uncertainty in predictions and allows minimizing expected loss."
   ]
  },
  {
   "cell_type": "markdown",
   "id": "8d96afab",
   "metadata": {},
   "source": [
    "______________"
   ]
  },
  {
   "cell_type": "markdown",
   "id": "b7ec8d32",
   "metadata": {},
   "source": [
    "## Basis Functions"
   ]
  },
  {
   "cell_type": "markdown",
   "id": "447e0fd6",
   "metadata": {},
   "source": [
    "### Linear regression\n",
    "\n",
    "$$ y(x, w) = w_0 + w_1x_1 + ... + w_Dx_D $$\n",
    "\n",
    "The key property of linear regression is that it is not only a linear function of the parameters, but also of the input variables.\n",
    "\n"
   ]
  },
  {
   "cell_type": "markdown",
   "id": "afddcf1a",
   "metadata": {},
   "source": [
    "### Other basis functions\n",
    "\n",
    "But in linear methods, we want to include linear combinations of fixed nonlinear functions (basis functions) of the input variables, which take the form:\n",
    "\n",
    "$$ y(x, w) = w_0 + \\sum_{j=1}^{M-1}w_j\\phi_j(x) $$\n",
    "\n",
    "The parameter $w_{0}$ is called bias parameter and allows for any fixed offset in the data."
   ]
  },
  {
   "cell_type": "markdown",
   "id": "7ef32b0a",
   "metadata": {},
   "source": [
    "### Polynomial regression\n",
    "$$ \\phi_j(x) = x^j $$\n",
    "\n",
    "One of the limitations of polynomial regression can be that it is a global function of the input variable. When it changes in one region of input space it affects all other regions. \n",
    "\n",
    "This can be solved by dividing the input space into regions and fit different polynomial in each region -> spline functions."
   ]
  },
  {
   "cell_type": "markdown",
   "id": "b7c74cf9",
   "metadata": {},
   "source": [
    "### Gaussian basis functions\n",
    "$$ \\phi_j(x) = exp \\left\\{ \\frac{(x - \\mu_j)^2}{2s^2} \\right\\} $$\n",
    "\n",
    "$\\mu$ is responsible for the locations of the basis functions in the input space and the parameter s for their spatial scale. even though names 'Gaussian' they do not have to have probabilistic interpretations. "
   ]
  },
  {
   "cell_type": "markdown",
   "id": "ed449fc9",
   "metadata": {},
   "source": [
    "### Sigmoidal basis function\n",
    "\n",
    "$$ \\phi_j(x) = \\sigma \\left( \\frac{x - \\mu_j}{s} \\right) $$\n",
    "\n",
    "where the sigmoid function is defined by $ \\sigma(a) = \\frac{1}{1+ exp(-a)}$. Similarly, we can use tanh function, because $tanh(a) = 2\\sigma(a) - 1$"
   ]
  }
 ],
 "metadata": {
  "kernelspec": {
   "display_name": "Python 3 (ipykernel)",
   "language": "python",
   "name": "python3"
  },
  "language_info": {
   "codemirror_mode": {
    "name": "ipython",
    "version": 3
   },
   "file_extension": ".py",
   "mimetype": "text/x-python",
   "name": "python",
   "nbconvert_exporter": "python",
   "pygments_lexer": "ipython3",
   "version": "3.9.15"
  }
 },
 "nbformat": 4,
 "nbformat_minor": 5
}
